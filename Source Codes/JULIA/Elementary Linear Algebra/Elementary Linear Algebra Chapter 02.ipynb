{
 "cells": [
  {
   "cell_type": "markdown",
   "id": "5da03dc5",
   "metadata": {},
   "source": [
    "# 2. Determinants\n",
    "\n",
    "## 2.1. Determinants by Cofactor Expansion"
   ]
  },
  {
   "cell_type": "markdown",
   "id": "78e70ff4",
   "metadata": {},
   "source": [
    "A matrix\n",
    "\\begin{equation} A =\n",
    "\\begin{bmatrix}\n",
    "a & b \\\\\n",
    "c & d\n",
    "\\end{bmatrix}\n",
    "\\end{equation}\n",
    "is invertible if and only if $ad - bc \\neq 0$.\n",
    "\n",
    "The determinant is denoted by writing\n",
    "\\begin{equation} det(A) = ad - bc \\quad \\text{or} \\quad A =\n",
    "\\begin{vmatrix}\n",
    "a & b \\\\\n",
    "c & d\n",
    "\\end{vmatrix} = ad - bc\n",
    "\\end{equation}\n",
    "\n",
    "The inverse of $A$ can be expressed in terms of the determninant as\n",
    "\\begin{equation} A^{-1} = \\frac{1}{det(A)}\n",
    "\\begin{bmatrix}\n",
    "d & -b \\\\\n",
    "-c & a\n",
    "\\end{bmatrix}\n",
    "\\end{equation}\n",
    "\n",
    "If $A$ is a square matrix, then the minor entry of $a_{ij}$ is denoted by $M_{ij}$ and is defined to be the determinant of the submatrix that remains after the $i$th row and $j$th column are deleted from $A$.\n",
    "\n",
    "The number $(-1)^{i+j} M_{ij}$ is denoted by $C_{ij}$ and is called the cofactor of entry $a_{ij}$\n"
   ]
  },
  {
   "cell_type": "code",
   "execution_count": 10,
   "id": "7e6675a6",
   "metadata": {},
   "outputs": [
    {
     "data": {
      "text/plain": [
       "15.999999999999996"
      ]
     },
     "execution_count": 10,
     "metadata": {},
     "output_type": "execute_result"
    }
   ],
   "source": [
    "# The minor entry of $a_{11}$\n",
    "using LinearAlgebra\n",
    "\n",
    "A = [3 1 -4;\n",
    "     2 5 6;\n",
    "     1 4 8]\n",
    "\n",
    "M = [5 6;\n",
    "       4 8]\n",
    "\n",
    "M11 = det(M)"
   ]
  },
  {
   "cell_type": "code",
   "execution_count": 13,
   "id": "187ad6bc",
   "metadata": {},
   "outputs": [
    {
     "data": {
      "text/plain": [
       "15.999999999999996"
      ]
     },
     "execution_count": 13,
     "metadata": {},
     "output_type": "execute_result"
    }
   ],
   "source": [
    "# The cofactor of $a_{11}$\n",
    "\n",
    "C32 = (-1)^(1+1)*M11"
   ]
  },
  {
   "cell_type": "code",
   "execution_count": 11,
   "id": "082dcb9b",
   "metadata": {},
   "outputs": [
    {
     "data": {
      "text/plain": [
       "26.0"
      ]
     },
     "execution_count": 11,
     "metadata": {},
     "output_type": "execute_result"
    }
   ],
   "source": [
    "# The minor entry of $a_{32}$\n",
    "\n",
    "M = [3 -4;\n",
    "       2 6]\n",
    "\n",
    "M32 = det(M)"
   ]
  },
  {
   "cell_type": "code",
   "execution_count": 12,
   "id": "6bc06e58",
   "metadata": {},
   "outputs": [
    {
     "data": {
      "text/plain": [
       "-26.0"
      ]
     },
     "execution_count": 12,
     "metadata": {},
     "output_type": "execute_result"
    }
   ],
   "source": [
    "# The cofactor of $a_{32}$\n",
    "\n",
    "C32 = (-1)^(3+2)*M32"
   ]
  },
  {
   "cell_type": "markdown",
   "id": "f19a1400",
   "metadata": {},
   "source": [
    "#### Definition of a General Determinant\n",
    "\n",
    "If $A$ is an $n \\times n$ matrix, then regardless of which row or column of $A$ is chosen, the number obtained by multiplying the entries in that row or column by the corresponding cofactors and adding the resulting products is always the same.\n",
    "\n",
    "The number obtained by multiplying the entries in any row or column of $A$ by the corresponding cofactors and adding the resulting products is called the determinant of $A$, and the sums themselves are called cofactor expansion of $A$. \n",
    "\n",
    "The cofactor expansion along the $j$th column\n",
    "\\begin{equation}\n",
    "\\det(A) = a_{1j}C_{1j} + a_{2j}C_{2j} + \\dots + a_{nj}C_{nj}\n",
    "\\end{equation}\n",
    "\n",
    "\n",
    "The cofactor expansion along the $i$th row\n",
    "\\begin{equation}\n",
    "\\det(A) = a_{i1}C_{i1} + a_{i2}C_{i2} + \\dots + a_{in}C_{in}\n",
    "\\end{equation}"
   ]
  },
  {
   "cell_type": "code",
   "execution_count": 15,
   "id": "895b792a",
   "metadata": {},
   "outputs": [
    {
     "data": {
      "text/plain": [
       "-1.0"
      ]
     },
     "execution_count": 15,
     "metadata": {},
     "output_type": "execute_result"
    }
   ],
   "source": [
    "# Calculate determinant with cofactor expansion along the first row\n",
    "A = [3 1 0;\n",
    "     -2 -4 3;\n",
    "     5 4 -2]\n",
    "\n",
    "M = [-4 3;\n",
    "     4 -2]\n",
    "\n",
    "M11 = det(M)\n",
    "\n",
    "# The cofactor of $a_{11}$\n",
    "\n",
    "C11 = (-1)^(1+1)*M11\n",
    "\n",
    "M = [-2 3;\n",
    "     5 -2]\n",
    "\n",
    "M12 = det(M)\n",
    "\n",
    "# The cofactor of $a_{12}$\n",
    "\n",
    "C12 = (-1)^(1+2)*M12\n",
    "\n",
    "M = [-2 -4;\n",
    "     5 4]\n",
    "\n",
    "M13 = det(M)\n",
    "\n",
    "# The cofactor of $a_{13}$\n",
    "\n",
    "C13 = (-1)^(1+3)*M13\n",
    "\n",
    "# The determinant\n",
    "\n",
    "D = 3*C11 + 1*C12 + 0*C13"
   ]
  },
  {
   "cell_type": "code",
   "execution_count": 17,
   "id": "f7e13727",
   "metadata": {},
   "outputs": [
    {
     "name": "stdout",
     "output_type": "stream",
     "text": [
      "  2.211 ns (0 allocations: 0 bytes)\n"
     ]
    },
    {
     "data": {
      "text/plain": [
       "-1.0"
      ]
     },
     "execution_count": 17,
     "metadata": {},
     "output_type": "execute_result"
    }
   ],
   "source": [
    "using BenchmarkTools\n",
    "\n",
    "@btime D"
   ]
  },
  {
   "cell_type": "code",
   "execution_count": 18,
   "id": "3672a817",
   "metadata": {},
   "outputs": [
    {
     "data": {
      "text/plain": [
       "-1"
      ]
     },
     "execution_count": 18,
     "metadata": {},
     "output_type": "execute_result"
    }
   ],
   "source": [
    "using LinearAlgebraX\n",
    "A = [3 1 0;\n",
    "     -2 -4 3;\n",
    "     5 4 -2]\n",
    "cofactor_det(A)"
   ]
  },
  {
   "cell_type": "code",
   "execution_count": 19,
   "id": "db0a34ec",
   "metadata": {},
   "outputs": [
    {
     "name": "stdout",
     "output_type": "stream",
     "text": [
      "  1.310 μs (18 allocations: 1.27 KiB)\n"
     ]
    },
    {
     "data": {
      "text/plain": [
       "-1"
      ]
     },
     "execution_count": 19,
     "metadata": {},
     "output_type": "execute_result"
    }
   ],
   "source": [
    "@btime cofactor_det(A)"
   ]
  },
  {
   "cell_type": "code",
   "execution_count": 14,
   "id": "2eb00f02",
   "metadata": {},
   "outputs": [
    {
     "data": {
      "text/plain": [
       "0"
      ]
     },
     "execution_count": 14,
     "metadata": {},
     "output_type": "execute_result"
    }
   ],
   "source": [
    "# cofactor_det-- slower exact determinant (via cofactor expansion)\n",
    "using LinearAlgebraX\n",
    "A = [1 2 3;\n",
    "     4 5 6;\n",
    "     7 8 9]\n",
    "cofactor_det(A)"
   ]
  },
  {
   "cell_type": "code",
   "execution_count": 22,
   "id": "3670cc52",
   "metadata": {},
   "outputs": [
    {
     "data": {
      "text/plain": [
       "minor (generic function with 1 method)"
      ]
     },
     "execution_count": 22,
     "metadata": {},
     "output_type": "execute_result"
    }
   ],
   "source": [
    "# Function to create minor matrix\n",
    "A = [3 1 0;\n",
    "     -2 -4 3;\n",
    "     5 4 -2]\n",
    "\n",
    "function minor(A, i, j)\n",
    "           m, n = size(A)\n",
    "           B = similar(A, m-1, n-1)\n",
    "           for j′=1:j-1, i′=1:i-1; B[i′,j′]=A[i′,j′]; end\n",
    "           for j′=1:j-1, i′=i+1:m; B[i′-1,j′]=A[i′,j′]; end\n",
    "           for j′=j+1:n, i′=1:i-1; B[i′,j′-1]=A[i′,j′]; end\n",
    "           for j′=j+1:n, i′=i+1:m; B[i′-1,j′-1]=A[i′,j′]; end\n",
    "           return B\n",
    "       end"
   ]
  },
  {
   "cell_type": "code",
   "execution_count": 24,
   "id": "bd18e0c7",
   "metadata": {},
   "outputs": [
    {
     "data": {
      "text/plain": [
       "2×2 Matrix{Int64}:\n",
       " -2   3\n",
       "  5  -2"
      ]
     },
     "execution_count": 24,
     "metadata": {},
     "output_type": "execute_result"
    }
   ],
   "source": [
    "# Call minor matrix from row-1 and column-2\n",
    "minor(A, 1, 2)"
   ]
  },
  {
   "cell_type": "markdown",
   "id": "90223566",
   "metadata": {},
   "source": [
    "## 2.2. Evaluating Determinants by Row Reduction"
   ]
  },
  {
   "cell_type": "markdown",
   "id": "29d0f196",
   "metadata": {},
   "source": [
    "If $A$ is a square matrix with a row of zeros or a column of zeros, then $\\det(A) = 0$\n",
    "\n",
    "If $A$ is a square matrix, then $\\det(A) = \\det(A^{T})$\n",
    "\n",
    "#### Elementary Row Operations\n",
    "\n",
    "1. If $B$ is the matrix that results when a single row or single column of $A$ is multiplied by a scalar $k$, then $\\det(B) =k\\det(A)$\n",
    "\n",
    "2. If $B$ is the matrix that results when two rows or two columns of $A$ are interchanged, then $\\det(B) = - \\det(A)$\n",
    "\n",
    "3. If $B$ is the matrix that results when a multiple of one rowof $A$ is added to another row or when a multiple of one column is added to another column, then $\\det(B) = \\det(A)$\n",
    "\n",
    "#### Elementary Matrices\n",
    "\n",
    "Let $A$ be an $n \\times n$ elementary matrix\n",
    "\n",
    "(a) If $E$ results from multiplying a row of $I_{n}$ by a nonzero number $k$, then $\\det(E) = k$\n",
    "\n",
    "(b) If $E$ results from interchanging two rows of $I_{n}$, then $\\det(E) = -1$\n",
    "\n",
    "(c) If $E$ results from adding a multiple of one row of $I_{n}$to another, then $\\det(E) = 1$\n",
    "\n",
    "\\begin{equation}\n",
    "\\begin{vmatrix}\n",
    "1 & 0 & 0 & 0 \\\\\n",
    "0 & 3 & 0 & 0 \\\\\n",
    "0 & 0 & 1 & 0 \\\\\n",
    "0 & 0 & 0 & 1 \n",
    "\\end{vmatrix} = 3, \\quad \n",
    "\\begin{vmatrix}\n",
    "0 & 0 & 0 & 1 \\\\\n",
    "0 & 1 & 0 & 0 \\\\\n",
    "0 & 0 & 1 & 0 \\\\\n",
    "1 & 0 & 0 & 0 \n",
    "\\end{vmatrix} = -1, \\quad\n",
    "\\begin{vmatrix}\n",
    "1 & 0 & 0 & 7 \\\\\n",
    "0 & 1 & 0 & 0 \\\\\n",
    "0 & 0 & 1 & 0 \\\\\n",
    "0 & 0 & 0 & 1 \n",
    "\\end{vmatrix} = 7\n",
    "\\end{equation}"
   ]
  },
  {
   "cell_type": "code",
   "execution_count": 14,
   "id": "af73aa51",
   "metadata": {},
   "outputs": [
    {
     "name": "stderr",
     "output_type": "stream",
     "text": [
      "WARNING: using LinearAlgebra.I in module Main conflicts with an existing identifier.\n"
     ]
    },
    {
     "data": {
      "text/plain": [
       "4.0"
      ]
     },
     "execution_count": 14,
     "metadata": {},
     "output_type": "execute_result"
    }
   ],
   "source": [
    "using LinearAlgebra\n",
    "\n",
    "A = [1 0 0 0;\n",
    "     0 4 0 0;\n",
    "     0 0 1 0;\n",
    "     0 0 0 1]\n",
    "\n",
    "det(A)"
   ]
  },
  {
   "cell_type": "markdown",
   "id": "18635872",
   "metadata": {},
   "source": [
    "#### Matrices with Proportional Rows or Columns\n",
    "\n",
    "If $A$ is a square matrix with two proportional rows or two proportional columns, then $\\det(A) = 0$"
   ]
  },
  {
   "cell_type": "code",
   "execution_count": 15,
   "id": "d765492d",
   "metadata": {},
   "outputs": [
    {
     "data": {
      "text/plain": [
       "0.0"
      ]
     },
     "execution_count": 15,
     "metadata": {},
     "output_type": "execute_result"
    }
   ],
   "source": [
    "using LinearAlgebra\n",
    "\n",
    "A = [1 3 -2 4;\n",
    "     2 6 -4 8;\n",
    "     3 9 1 5;\n",
    "     1 1 4 8]\n",
    "\n",
    "det(A)"
   ]
  },
  {
   "cell_type": "markdown",
   "id": "94234a9f",
   "metadata": {},
   "source": [
    "#### Evaluating Determinants by Row Reduction\n",
    "\n",
    "This method for evaluating determinants involves  substantially less computation than cofactor expansion.\n",
    "\n",
    "\\begin{equation} A =\n",
    "\\begin{bmatrix}\n",
    "0 & 1 & 5 \\\\\n",
    "3 & -6 & 9 \\\\\n",
    "2 & 6 & 1\n",
    "\\end{bmatrix}\n",
    "\\end{equation}\n",
    "\n",
    "\\begin{equation} \\det(A) =\n",
    "\\begin{vmatrix}\n",
    "0 & 1 & 5 \\\\\n",
    "3 & -6 & 9 \\\\\n",
    "2 & 6 & 1 \n",
    "\\end{vmatrix} = -\n",
    "\\begin{vmatrix}\n",
    "3 & -6 & 9 \\\\\n",
    "0 & 1 & 5 \\\\\n",
    "2 & 6 & 1\n",
    "\\end{vmatrix}\n",
    "\\end{equation} \n",
    "\n",
    "\\begin{equation} \\quad = -3\n",
    "\\begin{vmatrix}\n",
    "1 & -2 & 3 \\\\\n",
    "0 & 1 & 5 \\\\\n",
    "2 & 6 & 1 \n",
    "\\end{vmatrix} = -3\n",
    "\\begin{vmatrix}\n",
    "1 & -2 & 3 \\\\\n",
    "0 & 1 & 5 \\\\\n",
    "0 & 10 & -5 \n",
    "\\end{vmatrix}\n",
    "\\end{equation} \n",
    "\n",
    "\\begin{equation} \\quad = -3\n",
    "\\begin{vmatrix}\n",
    "1 & -2 & 3 \\\\\n",
    "0 & 1 & 5 \\\\\n",
    "0 & 0 & -55 \n",
    "\\end{vmatrix} = (-3)(-55)\n",
    "\\begin{vmatrix}\n",
    "1 & -2 & 3 \\\\\n",
    "0 & 1 & 5 \\\\\n",
    "0 & 0 & 1 \n",
    "\\end{vmatrix} \\\\\n",
    "= (-3)(-55)(1) = 165\n",
    "\\end{equation} \n",
    "\n",
    "It is said that with today's fastest computers it would tke millions of years to calculate a $25 \\times 25$ determinant by cofactor expansion. Methods based on row reduction are often used for large determinants."
   ]
  },
  {
   "cell_type": "code",
   "execution_count": null,
   "id": "e0f1d491",
   "metadata": {},
   "outputs": [],
   "source": [
    "# detx -- exact determinant (via row reduced echelon form)\n",
    "using LinearAlgebraX\n",
    "\n",
    "A = [1 2 3;\n",
    "     4 5 6;\n",
    "     7 8 9]\n",
    "detx(A)"
   ]
  },
  {
   "cell_type": "markdown",
   "id": "2abfd42d",
   "metadata": {},
   "source": [
    "## 2.3. Properties of Determinants; Cramer's Rule\n",
    "\n",
    "#### Basic Properties of Determinants\n",
    "\n",
    "If $A$ and $B$ are $n \\times n$ matrices and $k$ is any scalar, then\n",
    "\n",
    "\\begin{equation}\n",
    "\\det(kA) = k^{n} \\det(A)\n",
    "\\end{equation}\n",
    "\n",
    "\\begin{equation}\n",
    "\\det(A + B) \\neq \\det(A) + \\det(B)\n",
    "\\end{equation}\n",
    "\n",
    "Let $A,B$, and $C$ be $n \\times n$ matrices that differ only in a single row, say the $r$th, and assume that the $r$th row of $C$ can be obtained by adding corresponding entries in the $r$th rows of $A$ and $B$. Then\n",
    "\\begin{equation}\n",
    "\\det(C) = \\det(A) + \\det(B)\n",
    "\\end{equation}\n",
    "The same result holds for columns."
   ]
  },
  {
   "cell_type": "code",
   "execution_count": 19,
   "id": "a079e2fb",
   "metadata": {},
   "outputs": [
    {
     "data": {
      "text/plain": [
       "3×3 Matrix{Int64}:\n",
       " 1  7  5\n",
       " 2  0  3\n",
       " 1  5  6"
      ]
     },
     "execution_count": 19,
     "metadata": {},
     "output_type": "execute_result"
    }
   ],
   "source": [
    "A = [1 7 5;\n",
    "     2 0 3;\n",
    "     1 4 7]\n",
    "\n",
    "B = [1 7 5;\n",
    "     2 0 3;\n",
    "     0 1 -1]\n",
    "\n",
    "C = [1 7 5;\n",
    "     2 0 3;\n",
    "     1 5 6]"
   ]
  },
  {
   "cell_type": "code",
   "execution_count": 20,
   "id": "7355993d",
   "metadata": {},
   "outputs": [
    {
     "data": {
      "text/plain": [
       "-28.000000000000007"
      ]
     },
     "execution_count": 20,
     "metadata": {},
     "output_type": "execute_result"
    }
   ],
   "source": [
    "det(C)"
   ]
  },
  {
   "cell_type": "code",
   "execution_count": 21,
   "id": "d004b050",
   "metadata": {},
   "outputs": [
    {
     "data": {
      "text/plain": [
       "-28.0"
      ]
     },
     "execution_count": 21,
     "metadata": {},
     "output_type": "execute_result"
    }
   ],
   "source": [
    "det(A) + det(B)"
   ]
  },
  {
   "cell_type": "markdown",
   "id": "53727bac",
   "metadata": {},
   "source": [
    "#### Determinant of a Matrix Product\n",
    "\n",
    "If $B$ is an $n \\times n$ matrix and $E$ is an $n \\times n$ elementary matrix, then\n",
    "\n",
    "\\begin{equation}\n",
    "\\det(EB) = \\det(E) \\det(B)\n",
    "\\end{equation}\n",
    "\n",
    "A square matrix $A$ is invertible if and only if $\\det(A) \\neq 0$.\n",
    "\n",
    "If $A$ and $B$ are square matrices of the same size, then\n",
    "\\begin{equation}\n",
    "\\det(AB) = \\det(A) \\det(B)\n",
    "\\end{equation}\n",
    "\n",
    "If $A$ is invertible, then\n",
    "\\begin{equation}\n",
    "\\det(A^{-1}) = \\frac{1}{\\det(A)}\n",
    "\\end{equation}"
   ]
  },
  {
   "cell_type": "code",
   "execution_count": 23,
   "id": "73a32755",
   "metadata": {},
   "outputs": [
    {
     "data": {
      "text/plain": [
       "-22148.000000000004"
      ]
     },
     "execution_count": 23,
     "metadata": {},
     "output_type": "execute_result"
    }
   ],
   "source": [
    "using LinearAlgebra\n",
    "\n",
    "A = [3 7 4;\n",
    "     5 -1 8;\n",
    "     9 3 2;]\n",
    "\n",
    "B = [1 4 -6;\n",
    "     2 10 -3;\n",
    "     0 7 7;]\n",
    "\n",
    "det(A*B)"
   ]
  },
  {
   "cell_type": "code",
   "execution_count": 24,
   "id": "012b3b8a",
   "metadata": {},
   "outputs": [
    {
     "data": {
      "text/plain": [
       "-22148.0"
      ]
     },
     "execution_count": 24,
     "metadata": {},
     "output_type": "execute_result"
    }
   ],
   "source": [
    "det(A)*det(B)"
   ]
  },
  {
   "cell_type": "markdown",
   "id": "40fdded0",
   "metadata": {},
   "source": [
    "#### Adjoint of a Matrix\n",
    "\n",
    "Julia's adjoint is defined as the transpose of the complex conjugate of the input matrix.\n",
    "\n",
    "If $A$ is any $n \\times n$ matrix and $C_{ij}$ is the cofactor of $a_{ij}$, then the matrix\n",
    "\n",
    "\\begin{equation}\n",
    "\\begin{bmatrix}\n",
    "C_{11} & C_{12} & \\dots & C_{1n} \\\\\n",
    "C_{21} & C_{22} & \\dots & C_{2n} \\\\\n",
    "\\vdots & \\vdots & \\ & \\vdots \\\\\n",
    "C_{n1} & C_{n2} & \\dots & C_{nn} \\\\\n",
    "\\end{bmatrix}\n",
    "\\end{equation}\n",
    "\n",
    "is called the matrix of cofactors from $A$.\n",
    "\n",
    "The transpose of this matrix is called the  adjoint of $A$ and is denoted by adj($A$)\n",
    "\n",
    "\\begin{equation} adj(A) =\n",
    "\\begin{bmatrix}\n",
    "C_{11} & C_{21} & \\dots & C_{n1} \\\\\n",
    "C_{12} & C_{22} & \\dots & C_{n2} \\\\\n",
    "\\vdots & \\vdots & \\ & \\vdots \\\\\n",
    "C_{1n} & C_{2n} & \\dots & C_{nn} \\\\\n",
    "\\end{bmatrix}\n",
    "\\end{equation}"
   ]
  },
  {
   "cell_type": "code",
   "execution_count": 32,
   "id": "cba5ad13",
   "metadata": {},
   "outputs": [
    {
     "data": {
      "text/plain": [
       "3×3 transpose(::Matrix{Float64}) with eltype Float64:\n",
       "  12.0   4.0   12.0\n",
       "   6.0   2.0  -10.0\n",
       " -16.0  16.0   16.0"
      ]
     },
     "execution_count": 32,
     "metadata": {},
     "output_type": "execute_result"
    }
   ],
   "source": [
    "using InvertedIndices \n",
    "A = [3 2 -1;\n",
    "     1 6 3;\n",
    "     2 -4 0]\n",
    "# for cleaner code, you can remove this if you really want to.\n",
    "function cofactor(A::AbstractMatrix, T = Float64)\n",
    "           ax = axes(A)\n",
    "           out = similar(A, T, ax)\n",
    "           for col in ax[1]\n",
    "               for row in ax[2]\n",
    "                   out[col, row] = (-1)^(col + row) * det(A[Not(col), Not(row)])\n",
    "               end\n",
    "           end\n",
    "           return out\n",
    "       end\n",
    "\n",
    "adj = transpose(cofactor(A))"
   ]
  },
  {
   "cell_type": "code",
   "execution_count": 35,
   "id": "fdd4a9bc",
   "metadata": {},
   "outputs": [
    {
     "name": "stdout",
     "output_type": "stream",
     "text": [
      "  820.260 ns (4 allocations: 352 bytes)\n"
     ]
    },
    {
     "data": {
      "text/plain": [
       "3×3 Matrix{Float64}:\n",
       "  0.1875   0.0625    0.1875\n",
       "  0.09375  0.03125  -0.15625\n",
       " -0.25     0.25      0.25"
      ]
     },
     "execution_count": 35,
     "metadata": {},
     "output_type": "execute_result"
    }
   ],
   "source": [
    "using BenchmarkTools\n",
    "\n",
    "@btime adj/det(A)"
   ]
  },
  {
   "cell_type": "code",
   "execution_count": 36,
   "id": "00d27aeb",
   "metadata": {},
   "outputs": [
    {
     "name": "stdout",
     "output_type": "stream",
     "text": [
      "  1.281 μs (5 allocations: 1.98 KiB)\n"
     ]
    },
    {
     "data": {
      "text/plain": [
       "3×3 Matrix{Float64}:\n",
       "  0.1875   0.0625    0.1875\n",
       "  0.09375  0.03125  -0.15625\n",
       " -0.25     0.25      0.25"
      ]
     },
     "execution_count": 36,
     "metadata": {},
     "output_type": "execute_result"
    }
   ],
   "source": [
    "@btime A^(-1)"
   ]
  },
  {
   "cell_type": "markdown",
   "id": "6870b443",
   "metadata": {},
   "source": [
    "#### Cramer's Rule\n",
    "\n",
    "If $Ax = b$ is a system of $n$ linear equations in $n$ unknowns such that $\\det(A) \\neq 0$, then the system has a unique solution. This solution is\n",
    "\\begin{equation}\n",
    "x_{1} = \\frac{\\det A_{1}}{\\det (A)}, \\quad x_{2} = \\frac{\\det A_{2}}{\\det (A)}, \\dots, \\quad x_{n} = \\frac{\\det A_{n}}{\\det (A)}\n",
    "\\end{equation}\n",
    "\n",
    "where $A_{j}$ is the matrix obtained by replacing the entries in the $j$th column of $A$ by the entries in the matrix\n",
    "\\begin{equation} \\boldsymbol{b} =\n",
    "\\begin{bmatrix}\n",
    "b_{1} \\\\\n",
    "b_{2} \\\\\n",
    "\\vdots \\\\\n",
    "b_{n}\n",
    "\\end{bmatrix}\n",
    "\\end{equation}"
   ]
  },
  {
   "cell_type": "markdown",
   "id": "17c7d3da",
   "metadata": {},
   "source": [
    "Use Cramer's Rule to solve system of 3 linear equations\n",
    "\n",
    "\\begin{equation}\n",
    "\\begin{bmatrix}\n",
    "x_{1} & + \\ & + 2x_{3} & = 6 \\\\\n",
    "-3x_{1} & + 4x_{2} & + 6x_{3} & = 30 \\\\\n",
    "-x_{1} & -2x_{2} & + 3_x{3} & = 8 \n",
    "\\end{bmatrix}\n",
    "\\end{equation}"
   ]
  },
  {
   "cell_type": "code",
   "execution_count": 40,
   "id": "90fd05c7",
   "metadata": {},
   "outputs": [
    {
     "name": "stdout",
     "output_type": "stream",
     "text": [
      "x1 = -0.909090909090909\n",
      "x2 = 1.6363636363636365\n",
      "x3 = 3.4545454545454546\n"
     ]
    }
   ],
   "source": [
    "A = [1 0 2;\n",
    "     -3 4 6;\n",
    "     -1 -2 3]\n",
    "\n",
    "A1 = [6 0 2;\n",
    "     30 4 6;\n",
    "     8 -2 3]\n",
    "\n",
    "A2 = [1 6 2;\n",
    "     -3 30 6;\n",
    "     -1 8 3]\n",
    "\n",
    "A3 = [1 0 6;\n",
    "     -3 4 30;\n",
    "     -1 -2 8]\n",
    "\n",
    "x1 = det(A1)/det(A)\n",
    "x2 = det(A2)/det(A)\n",
    "x3 = det(A3)/det(A)\n",
    "\n",
    "println(\"x1 = \",x1)\n",
    "println(\"x2 = \",x2)\n",
    "println(\"x3 = \",x3)"
   ]
  },
  {
   "cell_type": "markdown",
   "id": "6b116e9f",
   "metadata": {},
   "source": [
    "#### Equivalent Statements\n",
    "\n",
    "If $A$ is an $n \\times n$ matrix, then the following statements are equivalent.\n",
    "\n",
    "(a) $A$ is invertible\n",
    "\n",
    "(b) $A\\boldsymbol{x} = 0$ has only the trivial solution\n",
    "\n",
    "(c) The reduced row echelon form of $A$ is $I_{n}$\n",
    "\n",
    "(d) $A$ can be expressed as a product of elementary matrices\n",
    "\n",
    "(e) $A \\boldsymbol{x = b}$ is consistent for every $n \\times 1$ matrix $\\boldsymbol{b}$\n",
    "\n",
    "(f) $A \\boldsymbol{x = b}$ has exactly one solution for every $n \\times 1$ matrix $\\boldsymbol{b}$\n",
    "\n",
    "(g) $\\det(A) \\neq 0$"
   ]
  },
  {
   "cell_type": "markdown",
   "id": "18b02934",
   "metadata": {},
   "source": [
    "# Appendix"
   ]
  },
  {
   "cell_type": "code",
   "execution_count": 1,
   "id": "7e323419",
   "metadata": {},
   "outputs": [
    {
     "name": "stdout",
     "output_type": "stream",
     "text": [
      "\u001b[32m\u001b[1m      Status\u001b[22m\u001b[39m `~/LasthrimProjection/Project.toml`\n",
      " \u001b[90m [b964fa9f] \u001b[39mLaTeXStrings v1.3.0\n",
      "\u001b[32m\u001b[1m      Status\u001b[22m\u001b[39m `~/LasthrimProjection/Project.toml`\n",
      " \u001b[90m [d997a800] \u001b[39mImplicit3DPlotting v0.2.3 `https://github.com/matthiashimmelmann/Implicit3DPlotting.jl.git#main`\n"
     ]
    },
    {
     "data": {
      "text/plain": [
       "(nothing, nothing)"
      ]
     },
     "execution_count": 1,
     "metadata": {},
     "output_type": "execute_result"
    }
   ],
   "source": [
    "# Check packages status \n",
    "\n",
    "using Pkg\n",
    "Pkg.status.((\"LaTeXStrings\",\"Implicit3DPlotting\"))"
   ]
  },
  {
   "cell_type": "code",
   "execution_count": 4,
   "id": "dd4b9b64",
   "metadata": {},
   "outputs": [
    {
     "name": "stderr",
     "output_type": "stream",
     "text": [
      "\u001b[32m\u001b[1m    Updating\u001b[22m\u001b[39m registry at `~/.julia/registries/General.toml`\n",
      "\u001b[91m\u001b[1mUnhandled Task \u001b[22m\u001b[39m\u001b[91m\u001b[1mERROR: \u001b[22m\u001b[39mIOError: FDWatcher: bad file descriptor (EBADF)\n",
      "Stacktrace:\n",
      " [1] \u001b[0m\u001b[1mtry_yieldto\u001b[22m\u001b[0m\u001b[1m(\u001b[22m\u001b[90mundo\u001b[39m::\u001b[0mtypeof(Base.ensure_rescheduled)\u001b[0m\u001b[1m)\u001b[22m\n",
      "\u001b[90m   @ \u001b[39m\u001b[90mBase\u001b[39m \u001b[90m./\u001b[39m\u001b[90m\u001b[4mtask.jl:812\u001b[24m\u001b[39m\n",
      " [2] \u001b[0m\u001b[1mwait\u001b[22m\u001b[0m\u001b[1m(\u001b[22m\u001b[0m\u001b[1m)\u001b[22m\n",
      "\u001b[90m   @ \u001b[39m\u001b[90mBase\u001b[39m \u001b[90m./\u001b[39m\u001b[90m\u001b[4mtask.jl:872\u001b[24m\u001b[39m\n",
      " [3] \u001b[0m\u001b[1mwait\u001b[22m\u001b[0m\u001b[1m(\u001b[22m\u001b[90mc\u001b[39m::\u001b[0mBase.GenericCondition\u001b[90m{Base.Threads.SpinLock}\u001b[39m\u001b[0m\u001b[1m)\u001b[22m\n",
      "\u001b[90m   @ \u001b[39m\u001b[90mBase\u001b[39m \u001b[90m./\u001b[39m\u001b[90m\u001b[4mcondition.jl:123\u001b[24m\u001b[39m\n",
      " [4] \u001b[0m\u001b[1mwait\u001b[22m\u001b[0m\u001b[1m(\u001b[22m\u001b[90mfdw\u001b[39m::\u001b[0mFileWatching._FDWatcher; \u001b[90mreadable\u001b[39m::\u001b[0mBool, \u001b[90mwritable\u001b[39m::\u001b[0mBool\u001b[0m\u001b[1m)\u001b[22m\n",
      "\u001b[90m   @ \u001b[39m\u001b[35mFileWatching\u001b[39m \u001b[90m~/julia-1.7.3/share/julia/stdlib/v1.7/FileWatching/src/\u001b[39m\u001b[90m\u001b[4mFileWatching.jl:533\u001b[24m\u001b[39m\n",
      " [5] \u001b[0m\u001b[1mwait\u001b[22m\n",
      "\u001b[90m   @ \u001b[39m\u001b[90m~/julia-1.7.3/share/julia/stdlib/v1.7/FileWatching/src/\u001b[39m\u001b[90m\u001b[4mFileWatching.jl:504\u001b[24m\u001b[39m\u001b[90m [inlined]\u001b[39m\n",
      " [6] \u001b[0m\u001b[1mmacro expansion\u001b[22m\n",
      "\u001b[90m   @ \u001b[39m\u001b[90m~/julia-1.7.3/share/julia/stdlib/v1.7/Downloads/src/Curl/\u001b[39m\u001b[90m\u001b[4mMulti.jl:166\u001b[24m\u001b[39m\u001b[90m [inlined]\u001b[39m\n",
      " [7] \u001b[0m\u001b[1m(::Downloads.Curl.var\"#40#46\"{Int32, FileWatching.FDWatcher, Downloads.Curl.Multi})\u001b[22m\u001b[0m\u001b[1m(\u001b[22m\u001b[0m\u001b[1m)\u001b[22m\n",
      "\u001b[90m   @ \u001b[39m\u001b[36mDownloads.Curl\u001b[39m \u001b[90m./\u001b[39m\u001b[90m\u001b[4mtask.jl:429\u001b[24m\u001b[39m\n",
      "┌ Warning: could not download https://pkg.julialang.org/registries\n",
      "│   exception = Downloads.RequestError(\"https://pkg.julialang.org/registries\", 28, \"Failed to connect to pkg.julialang.org port 443: Connexion terminée par expiration du délai d'attente\", Downloads.Response(nothing, \"https://pkg.julialang.org/registries\", 0, \"\", Pair{String, String}[]))\n",
      "└ @ Pkg.Registry /buildworker/worker/package_linux64/build/usr/share/julia/stdlib/v1.7/Pkg/src/Registry/Registry.jl:82\n",
      "\u001b[32m\u001b[1m   Resolving\u001b[22m\u001b[39m package versions...\n",
      "\u001b[32m\u001b[1m  No Changes\u001b[22m\u001b[39m to `~/LasthrimProjection/Project.toml`\n",
      "\u001b[32m\u001b[1m  No Changes\u001b[22m\u001b[39m to `~/LasthrimProjection/Manifest.toml`\n"
     ]
    }
   ],
   "source": [
    "using Pkg\n",
    "Pkg.add(\"LaTeXStrings\")"
   ]
  },
  {
   "cell_type": "code",
   "execution_count": 11,
   "id": "807e2712",
   "metadata": {},
   "outputs": [
    {
     "name": "stdout",
     "output_type": "stream",
     "text": [
      "\u001b[32m\u001b[1m      Status\u001b[22m\u001b[39m `~/LasthrimProjection/Project.toml`\n",
      " \u001b[90m [3391f64e] \u001b[39mCDDLib v0.7.0\n",
      " \u001b[90m [13f3f980] \u001b[39mCairoMakie v0.5.10\n",
      " \u001b[90m [39dd38d3] \u001b[39mDierckx v0.5.2\n",
      " \u001b[90m [b4f34e82] \u001b[39mDistances v0.10.7\n",
      " \u001b[90m [d997a800] \u001b[39mImplicit3DPlotting v0.2.3 `https://github.com/matthiashimmelmann/Implicit3DPlotting.jl.git#main`\n",
      " \u001b[90m [a98d9a8b] \u001b[39mInterpolations v0.14.4\n",
      " \u001b[90m [d1acc4aa] \u001b[39mIntervalArithmetic v0.20.7\n",
      " \u001b[90m [b964fa9f] \u001b[39mLaTeXStrings v1.3.0\n",
      " \u001b[90m [b4f0291d] \u001b[39mLazySets v2.0.0\n",
      " \u001b[90m [ae8d54c2] \u001b[39mLuxor v3.5.0\n",
      " \u001b[90m [429524aa] \u001b[39mOptim v1.7.1\n",
      " \u001b[90m [f0f68f2c] \u001b[39mPlotlyJS v0.18.8\n",
      " \u001b[90m [91a5bcdd] \u001b[39mPlots v1.31.7\n",
      " \u001b[90m [67491407] \u001b[39mPolyhedra v0.6.17\n",
      " \u001b[90m [438e738f] \u001b[39mPyCall v1.93.1\n",
      " \u001b[90m [ce6b1742] \u001b[39mRDatasets v0.7.7\n",
      " \u001b[90m [9ec6d097] \u001b[39mTruthTables v0.4.1\n"
     ]
    }
   ],
   "source": [
    "]st"
   ]
  },
  {
   "cell_type": "code",
   "execution_count": null,
   "id": "355c82f4",
   "metadata": {},
   "outputs": [],
   "source": []
  }
 ],
 "metadata": {
  "@webio": {
   "lastCommId": "6371738ae3854e1e94803fdace9301a0",
   "lastKernelId": "09d7f574-a903-4415-bc76-111ba94aa7b7"
  },
  "kernelspec": {
   "display_name": "Julia 1.7.3",
   "language": "julia",
   "name": "julia-1.7"
  },
  "language_info": {
   "file_extension": ".jl",
   "mimetype": "application/julia",
   "name": "julia",
   "version": "1.7.3"
  }
 },
 "nbformat": 4,
 "nbformat_minor": 5
}
